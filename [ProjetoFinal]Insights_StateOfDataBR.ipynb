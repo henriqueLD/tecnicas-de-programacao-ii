{
 "cells": [
  {
   "cell_type": "markdown",
   "metadata": {},
   "source": [
    "# State of Data Brazil"
   ]
  },
  {
   "cell_type": "code",
   "execution_count": 1,
   "metadata": {},
   "outputs": [
    {
     "name": "stdout",
     "output_type": "stream",
     "text": [
      "Quantidade de respostas: 2645\n"
     ]
    }
   ],
   "source": [
    "import pandas as pd\n",
    "import numpy as np\n",
    "import matplotlib.pyplot as plt\n",
    "import seaborn as sns\n",
    "import plotly.express as px\n",
    "import plotly.graph_objects as go\n",
    "from plotly.subplots import make_subplots\n",
    "\n",
    "import warnings\n",
    "warnings.filterwarnings(\"ignore\")\n",
    "\n",
    "df = pd.read_csv('data/State_of_Data_2021.csv')\n",
    "\n",
    "print(f'Quantidade de respostas: {df.shape[0]}')"
   ]
  },
  {
   "cell_type": "markdown",
   "metadata": {},
   "source": [
    "### Blocos de perguntas interessantes:\n",
    "1. Dados demográficos\n",
    "2. Dados sobre carreira\n",
    "4. Conhecimentos sobre dados\n",
    "5. Objetivos com dados\n",
    "6. Conhecimento de engenharia de dados\n",
    "7. Análise de dados\n",
    "8. Ciência de dados"
   ]
  },
  {
   "cell_type": "code",
   "execution_count": 2,
   "metadata": {},
   "outputs": [
    {
     "data": {
      "text/html": [
       "<div>\n",
       "<style scoped>\n",
       "    .dataframe tbody tr th:only-of-type {\n",
       "        vertical-align: middle;\n",
       "    }\n",
       "\n",
       "    .dataframe tbody tr th {\n",
       "        vertical-align: top;\n",
       "    }\n",
       "\n",
       "    .dataframe thead th {\n",
       "        text-align: right;\n",
       "    }\n",
       "</style>\n",
       "<table border=\"1\" class=\"dataframe\">\n",
       "  <thead>\n",
       "    <tr style=\"text-align: right;\">\n",
       "      <th></th>\n",
       "      <th>Idade</th>\n",
       "      <th>fx_idade</th>\n",
       "      <th>genero</th>\n",
       "      <th>estado</th>\n",
       "      <th>regiao_moradia</th>\n",
       "      <th>regiao_origem</th>\n",
       "      <th>se_mudou</th>\n",
       "      <th>formacao</th>\n",
       "      <th>situacao_atual</th>\n",
       "      <th>setor</th>\n",
       "      <th>...</th>\n",
       "      <th>ling_net</th>\n",
       "      <th>ling_java</th>\n",
       "      <th>ling_julia</th>\n",
       "      <th>ling_sas</th>\n",
       "      <th>ling_vba</th>\n",
       "      <th>ling_scala</th>\n",
       "      <th>ling_matlab</th>\n",
       "      <th>ling_php</th>\n",
       "      <th>ling_javascript</th>\n",
       "      <th>ling_nenhuma</th>\n",
       "    </tr>\n",
       "  </thead>\n",
       "  <tbody>\n",
       "    <tr>\n",
       "      <th>0</th>\n",
       "      <td>38.0</td>\n",
       "      <td>35-39</td>\n",
       "      <td>Masculino</td>\n",
       "      <td>Ceará (CE)</td>\n",
       "      <td>Nordeste</td>\n",
       "      <td>NaN</td>\n",
       "      <td>0</td>\n",
       "      <td>Química / Física</td>\n",
       "      <td>Empregado (CLT)</td>\n",
       "      <td>Marketing</td>\n",
       "      <td>...</td>\n",
       "      <td>NaN</td>\n",
       "      <td>NaN</td>\n",
       "      <td>NaN</td>\n",
       "      <td>NaN</td>\n",
       "      <td>NaN</td>\n",
       "      <td>NaN</td>\n",
       "      <td>NaN</td>\n",
       "      <td>NaN</td>\n",
       "      <td>NaN</td>\n",
       "      <td>NaN</td>\n",
       "    </tr>\n",
       "    <tr>\n",
       "      <th>1</th>\n",
       "      <td>39.0</td>\n",
       "      <td>35-39</td>\n",
       "      <td>Masculino</td>\n",
       "      <td>Bahia (BA)</td>\n",
       "      <td>Nordeste</td>\n",
       "      <td>Sudeste</td>\n",
       "      <td>1</td>\n",
       "      <td>Economia/ Administração / Contabilidade / Fina...</td>\n",
       "      <td>Empreendedor ou Empregado (CNPJ)</td>\n",
       "      <td>Consultoria</td>\n",
       "      <td>...</td>\n",
       "      <td>NaN</td>\n",
       "      <td>NaN</td>\n",
       "      <td>NaN</td>\n",
       "      <td>NaN</td>\n",
       "      <td>NaN</td>\n",
       "      <td>NaN</td>\n",
       "      <td>NaN</td>\n",
       "      <td>NaN</td>\n",
       "      <td>NaN</td>\n",
       "      <td>NaN</td>\n",
       "    </tr>\n",
       "    <tr>\n",
       "      <th>2</th>\n",
       "      <td>30.0</td>\n",
       "      <td>30-34</td>\n",
       "      <td>Masculino</td>\n",
       "      <td>Santa Catarina (SC)</td>\n",
       "      <td>Sul</td>\n",
       "      <td>NaN</td>\n",
       "      <td>0</td>\n",
       "      <td>Computação / Engenharia de Software / Sistemas...</td>\n",
       "      <td>Empregado (CLT)</td>\n",
       "      <td>Indústria</td>\n",
       "      <td>...</td>\n",
       "      <td>NaN</td>\n",
       "      <td>NaN</td>\n",
       "      <td>NaN</td>\n",
       "      <td>NaN</td>\n",
       "      <td>NaN</td>\n",
       "      <td>NaN</td>\n",
       "      <td>NaN</td>\n",
       "      <td>NaN</td>\n",
       "      <td>NaN</td>\n",
       "      <td>NaN</td>\n",
       "    </tr>\n",
       "    <tr>\n",
       "      <th>3</th>\n",
       "      <td>38.0</td>\n",
       "      <td>35-39</td>\n",
       "      <td>Feminino</td>\n",
       "      <td>São Paulo (SP)</td>\n",
       "      <td>Sudeste</td>\n",
       "      <td>NaN</td>\n",
       "      <td>0</td>\n",
       "      <td>Outras</td>\n",
       "      <td>Empreendedor ou Empregado (CNPJ)</td>\n",
       "      <td>Serviços</td>\n",
       "      <td>...</td>\n",
       "      <td>NaN</td>\n",
       "      <td>NaN</td>\n",
       "      <td>NaN</td>\n",
       "      <td>NaN</td>\n",
       "      <td>NaN</td>\n",
       "      <td>NaN</td>\n",
       "      <td>NaN</td>\n",
       "      <td>NaN</td>\n",
       "      <td>NaN</td>\n",
       "      <td>NaN</td>\n",
       "    </tr>\n",
       "    <tr>\n",
       "      <th>4</th>\n",
       "      <td>36.0</td>\n",
       "      <td>35-39</td>\n",
       "      <td>Masculino</td>\n",
       "      <td>Santa Catarina (SC)</td>\n",
       "      <td>Sul</td>\n",
       "      <td>NaN</td>\n",
       "      <td>0</td>\n",
       "      <td>Outras Engenharias</td>\n",
       "      <td>Empreendedor ou Empregado (CNPJ)</td>\n",
       "      <td>Varejo</td>\n",
       "      <td>...</td>\n",
       "      <td>NaN</td>\n",
       "      <td>NaN</td>\n",
       "      <td>NaN</td>\n",
       "      <td>NaN</td>\n",
       "      <td>NaN</td>\n",
       "      <td>NaN</td>\n",
       "      <td>NaN</td>\n",
       "      <td>NaN</td>\n",
       "      <td>NaN</td>\n",
       "      <td>NaN</td>\n",
       "    </tr>\n",
       "  </tbody>\n",
       "</table>\n",
       "<p>5 rows × 36 columns</p>\n",
       "</div>"
      ],
      "text/plain": [
       "   Idade fx_idade     genero               estado regiao_moradia  \\\n",
       "0   38.0    35-39  Masculino           Ceará (CE)       Nordeste   \n",
       "1   39.0    35-39  Masculino           Bahia (BA)       Nordeste   \n",
       "2   30.0    30-34  Masculino  Santa Catarina (SC)            Sul   \n",
       "3   38.0    35-39   Feminino       São Paulo (SP)        Sudeste   \n",
       "4   36.0    35-39  Masculino  Santa Catarina (SC)            Sul   \n",
       "\n",
       "  regiao_origem  se_mudou                                           formacao  \\\n",
       "0           NaN         0                                   Química / Física   \n",
       "1       Sudeste         1  Economia/ Administração / Contabilidade / Fina...   \n",
       "2           NaN         0  Computação / Engenharia de Software / Sistemas...   \n",
       "3           NaN         0                                             Outras   \n",
       "4           NaN         0                                 Outras Engenharias   \n",
       "\n",
       "                     situacao_atual        setor  ... ling_net ling_java  \\\n",
       "0                   Empregado (CLT)    Marketing  ...      NaN       NaN   \n",
       "1  Empreendedor ou Empregado (CNPJ)  Consultoria  ...      NaN       NaN   \n",
       "2                   Empregado (CLT)    Indústria  ...      NaN       NaN   \n",
       "3  Empreendedor ou Empregado (CNPJ)     Serviços  ...      NaN       NaN   \n",
       "4  Empreendedor ou Empregado (CNPJ)       Varejo  ...      NaN       NaN   \n",
       "\n",
       "  ling_julia ling_sas ling_vba  ling_scala  ling_matlab  ling_php  \\\n",
       "0        NaN      NaN      NaN         NaN          NaN       NaN   \n",
       "1        NaN      NaN      NaN         NaN          NaN       NaN   \n",
       "2        NaN      NaN      NaN         NaN          NaN       NaN   \n",
       "3        NaN      NaN      NaN         NaN          NaN       NaN   \n",
       "4        NaN      NaN      NaN         NaN          NaN       NaN   \n",
       "\n",
       "   ling_javascript  ling_nenhuma  \n",
       "0              NaN           NaN  \n",
       "1              NaN           NaN  \n",
       "2              NaN           NaN  \n",
       "3              NaN           NaN  \n",
       "4              NaN           NaN  \n",
       "\n",
       "[5 rows x 36 columns]"
      ]
     },
     "execution_count": 2,
     "metadata": {},
     "output_type": "execute_result"
    }
   ],
   "source": [
    "cols = [\"('P1_a ', 'Idade')\",\n",
    "        \"('P1_a_a ', 'Faixa idade')\",\n",
    "        \"('P1_b ', 'Genero')\",\n",
    "        \"('P1_e ', 'Estado onde mora')\",\n",
    "        \"('P1_e_b ', 'Regiao onde mora')\",\n",
    "        \"('P1_g_b ', 'Regiao de origem')\",\n",
    "        \"('P1_g_c ', 'Mudou de Estado?')\",\n",
    "        \"('P1_i ', 'Área de Formação')\",\n",
    "        \"('P2_a ', 'Qual sua situação atual de trabalho?')\",\n",
    "        \"('P2_b ', 'Setor')\",\n",
    "        \"('P2_f ', 'Cargo Atual')\",\n",
    "        \"('P2_g ', 'Nivel')\",\n",
    "        \"('P2_h ', 'Faixa salarial')\",\n",
    "        \"('P2_q ', 'Atualmente qual a sua forma de trabalho?')\",\n",
    "        \"('P2_o ', 'Quais os principais critérios que você leva em consideração no momento de decidir onde trabalhar?')\",\n",
    "        ###### Quais dos dados abaixo mais utilizadas no trabalho\n",
    "        \"('P4_c_a ', 'Dados relacionais (estruturados em bancos SQL)')\",\n",
    "        \"('P4_c_b ', 'Dados armazenados em bancos NoSQL')\",\n",
    "        \"('P4_c_c ', 'Imagens')\",\n",
    "        \"('P4_c_d ', 'Textos/Documentos')\",\n",
    "        \"('P4_c_e ', 'Vídeos')\",\n",
    "        \"('P4_c_f ', 'Áudios')\",\n",
    "        \"('P4_c_g ', 'Planilhas')\",\n",
    "        ###### Linguagens mais utilizadas\n",
    "        \"('P4_e_a ', 'SQL')\",\n",
    "        \"('P4_e_b ', 'R ')\",\n",
    "        \"('P4_e_c ', 'Python')\",\n",
    "        \"('P4_e_d ', 'C/C++/C#')\",\n",
    "        \"('P4_e_e ', '.NET')\",\n",
    "        \"('P4_e_f ', 'Java')\",\n",
    "        \"('P4_e_g ', 'Julia')\",\n",
    "        \"('P4_e_h ', 'SAS/Stata')\",\n",
    "        \"('P4_e_i ', 'Visual Basic/VBA')\",\n",
    "        \"('P4_e_j ', 'Scala')\",\n",
    "        \"('P4_e_k ', 'Matlab')\",\n",
    "        \"('P4_e_l ', 'PHP')\",\n",
    "        \"('P4_e_m ', 'Javascript')\",\n",
    "        \"('P4_e_n ', 'Não utilizo nenhuma linguagem')\"\n",
    "]\n",
    "\n",
    "depara = [\n",
    "    'Idade',\n",
    "    'fx_idade',\n",
    "    'genero',\n",
    "    'estado',\n",
    "    'regiao_moradia',\n",
    "    'regiao_origem',\n",
    "    'se_mudou',\n",
    "    'formacao',\n",
    "    'situacao_atual',\n",
    "    'setor',\n",
    "    'cargo',\n",
    "    'senioridade',\n",
    "    'fx_salarial',\n",
    "    'regime_trabalho',\n",
    "    'importante_trabalho',\n",
    "    'dados_sql',\n",
    "    'dados_nosql',\n",
    "    'dados_img',\n",
    "    'dados_texto',\n",
    "    'dados_video',\n",
    "    'dados_audio',\n",
    "    'dados_planilhas',\n",
    "    'ling_sql',\n",
    "    'ling_r',\n",
    "    'ling_python',\n",
    "    'ling_c',\n",
    "    'ling_net',\n",
    "    'ling_java',\n",
    "    'ling_julia',\n",
    "    'ling_sas',\n",
    "    'ling_vba',\n",
    "    'ling_scala',\n",
    "    'ling_matlab',\n",
    "    'ling_php',\n",
    "    'ling_javascript',\n",
    "    'ling_nenhuma'\n",
    "]\n",
    "\n",
    "df = df[cols]\n",
    "df.columns = depara\n",
    "\n",
    "df.head()"
   ]
  },
  {
   "cell_type": "markdown",
   "metadata": {},
   "source": [
    "### Tratamento do banco de dados\n",
    "1. Preenchimento de nulos\n",
    "2. Marcação de empregados"
   ]
  },
  {
   "cell_type": "code",
   "execution_count": 3,
   "metadata": {},
   "outputs": [
    {
     "name": "stdout",
     "output_type": "stream",
     "text": [
      "Preenchendo valores nulos em Idade com 0.0\n",
      "Preenchendo valores nulos em estado com \"Não informado\"\n",
      "Preenchendo valores nulos em regiao_origem com \"Não informado\"\n",
      "Preenchendo valores nulos em formacao com \"Não informado\"\n",
      "Preenchendo valores nulos em setor com \"Não informado\"\n",
      "Preenchendo valores nulos em cargo com \"Não informado\"\n",
      "Preenchendo valores nulos em senioridade com \"Não informado\"\n",
      "Preenchendo valores nulos em fx_salarial com \"Não informado\"\n",
      "Preenchendo valores nulos em regime_trabalho com \"Não informado\"\n",
      "Preenchendo valores nulos em importante_trabalho com \"Não informado\"\n",
      "Preenchendo valores nulos em dados_sql com 0.0\n",
      "Preenchendo valores nulos em dados_nosql com 0.0\n",
      "Preenchendo valores nulos em dados_img com 0.0\n",
      "Preenchendo valores nulos em dados_texto com 0.0\n",
      "Preenchendo valores nulos em dados_video com 0.0\n",
      "Preenchendo valores nulos em dados_audio com 0.0\n",
      "Preenchendo valores nulos em dados_planilhas com 0.0\n",
      "Preenchendo valores nulos em ling_sql com 0.0\n",
      "Preenchendo valores nulos em ling_r com 0.0\n",
      "Preenchendo valores nulos em ling_python com 0.0\n",
      "Preenchendo valores nulos em ling_c com 0.0\n",
      "Preenchendo valores nulos em ling_net com 0.0\n",
      "Preenchendo valores nulos em ling_java com 0.0\n",
      "Preenchendo valores nulos em ling_julia com 0.0\n",
      "Preenchendo valores nulos em ling_sas com 0.0\n",
      "Preenchendo valores nulos em ling_vba com 0.0\n",
      "Preenchendo valores nulos em ling_scala com 0.0\n",
      "Preenchendo valores nulos em ling_matlab com 0.0\n",
      "Preenchendo valores nulos em ling_php com 0.0\n",
      "Preenchendo valores nulos em ling_javascript com 0.0\n",
      "Preenchendo valores nulos em ling_nenhuma com 0.0\n"
     ]
    }
   ],
   "source": [
    "for c in df.columns:\n",
    "    if df[c].isnull().sum() > 0:\n",
    "        if df[c].dtypes == 'object':\n",
    "            print(f'Preenchendo valores nulos em {c} com \"Não informado\"')\n",
    "            df[c].fillna('Não informado', inplace = True)\n",
    "        elif df[c].dtypes == 'float64':\n",
    "            print(f'Preenchendo valores nulos em {c} com 0.0')\n",
    "            df[c].fillna(0.0, inplace = True)\n",
    "        elif df[c].dtypes == 'int64':\n",
    "            print(f'Preenchendo valores nulos em {c} com 0')\n",
    "            df[c].fillna(0, inplace = True)\n",
    "\n",
    "situacao_trabalham = ['Empregado (CLT)',\n",
    "                      'Empreendedor ou Empregado (CNPJ)',\n",
    "                      'Estagiário',\n",
    "                      'Vivo no Brasil e trabalho remoto para empresa de fora do Brasil (PJ)',\n",
    "                      'Trabalho na área Acadêmica/Pesquisador',\n",
    "                      'Freelancer',\n",
    "                      'Vivo fora do Brasil e trabalho para empresa de fora do Brasil',\n",
    "                      'Servidor Público'\n",
    "]\n",
    "\n",
    "df['trabalham'] = np.where(df.situacao_atual.isin(situacao_trabalham), 1, 0)"
   ]
  },
  {
   "cell_type": "code",
   "execution_count": 4,
   "metadata": {},
   "outputs": [],
   "source": [
    "faixas = [df['fx_salarial'].isin(['Não informado']),\n",
    "          df['fx_salarial'].isin(['Menos de R$ 1.000/mês','de R$ 1.001/mês a R$ 2.000/mês']),\n",
    "          df['fx_salarial'].isin(['de R$ 2.001/mês a R$ 3000/mês','de R$ 3.001/mês a R$ 4.000/mês']),\n",
    "          df['fx_salarial'].isin(['de R$ 4.001/mês a R$ 6.000/mês','de R$ 6.001/mês a R$ 8.000/mês']),\n",
    "          df['fx_salarial'].isin(['de R$ 8.001/mês a R$ 12.000/mês']),\n",
    "          df['fx_salarial'].isin(['de R$ 12.001/mês a R$ 16.000/mês','de R$ 16.001/mês a R$ 20.000/mês']),\n",
    "          df['fx_salarial'].isin(['de R$ 20.001/mês a R$ 25.000/mês','de R$ 25.001/mês a R$ 30.000/mês','de R$ 30.001/mês a R$ 40.000/mês','Acima de R$ 40.001/mês'])]\n",
    "faixas_cat = ['z) Não informado',\n",
    "              'a) Até 2.000',\n",
    "              'c) 2.000 a 4.000',\n",
    "              'd) 4.000 a 8.000',\n",
    "              'e) 8.000 a 12.000',\n",
    "              'f) 12.000 a 20.000',\n",
    "              'g) Acima 25.000'\n",
    "              ]\n",
    "df['fx_salarial2'] = np.select(faixas, faixas_cat, 'Outros')\n",
    "\n",
    "cargos = [df['cargo'].isin(['Não informado']),\n",
    "          df['cargo'].isin(['Cientista de Dados/Data Scientist' ]),\n",
    "          df['cargo'].isin(['Analista de Dados/Data Analyst', 'Analista de BI/BI Analyst/Analytics Engineer', 'Analista de Negócios/Business Analyst',\n",
    "                             'Analista de Inteligência de Mercado/Market Intelligence', 'Analista de Marketing', 'Analista Administrativo']),\n",
    "          df['cargo'].isin(['Engenheiro de Dados/Data Engineer', 'Engenheiro de Machine Learning/ML Engineer', 'DBA/Administrador de Banco de Dados',\n",
    "                              'Arquiteto de Dados', 'Arquiteto de dados' ])\n",
    "                              ]\n",
    "cargos_cat = ['Não informado',\n",
    "              'Cientista',\n",
    "              'Analista',\n",
    "              'Engenheiro'\n",
    "              ]\n",
    "\n",
    "df['cargo2'] = np.select(cargos, cargos_cat, 'Outros')"
   ]
  },
  {
   "cell_type": "code",
   "execution_count": 5,
   "metadata": {},
   "outputs": [
    {
     "data": {
      "text/plain": [
       "Analista      808\n",
       "Engenheiro    371\n",
       "Cientista     357\n",
       "Outros        321\n",
       "Name: cargo2, dtype: int64"
      ]
     },
     "execution_count": 5,
     "metadata": {},
     "output_type": "execute_result"
    }
   ],
   "source": [
    "df_filtrado = df.loc[(df['cargo2']) != 'Não informado']\n",
    "df_filtrado['cargo2'].value_counts()"
   ]
  },
  {
   "attachments": {},
   "cell_type": "markdown",
   "metadata": {},
   "source": [
    "### Distribuição de Cargos entre os respondentes (Pandas plot)"
   ]
  },
  {
   "cell_type": "code",
   "execution_count": 6,
   "metadata": {},
   "outputs": [
    {
     "data": {
      "text/plain": [
       "[]"
      ]
     },
     "execution_count": 6,
     "metadata": {},
     "output_type": "execute_result"
    },
    {
     "data": {
      "image/png": "[encoded data removed]",
      "text/plain": [
       "<Figure size 640x480 with 1 Axes>"
      ]
     },
     "metadata": {},
     "output_type": "display_data"
    }
   ],
   "source": [
    "cubo = df[df['cargo2']!='Não informado'].groupby('cargo2').agg({'cargo':'count'}).reset_index()\n",
    "ax = cubo.plot.pie(y='cargo', labels=cubo['cargo2'], autopct='%1.1f%%', legend=False)\n",
    "\n",
    "ax.set_title(\"Distribuição de Cargos\", fontsize=16, weight = 'bold')\n",
    "ax.spines[['right', 'top', 'bottom']].set_visible(False)\n",
    "ax.set(ylabel=None)\n",
    "ax.set_xticks([], [])"
   ]
  },
  {
   "attachments": {},
   "cell_type": "markdown",
   "metadata": {},
   "source": [
    "É possível notar que a maior parcela dos respondentes são Analistas, e o percentual de Cientistas e Engenheiros são bem próximos.\n",
    "\n",
    "Os demais não se encaixaram na nossa definição e foram classificados como Outros"
   ]
  },
  {
   "attachments": {},
   "cell_type": "markdown",
   "metadata": {},
   "source": [
    "### Faixa Salarial por Cargo (Pandas plot)"
   ]
  },
  {
   "cell_type": "code",
   "execution_count": 7,
   "metadata": {},
   "outputs": [
    {
     "data": {
      "text/plain": [
       "[]"
      ]
     },
     "execution_count": 7,
     "metadata": {},
     "output_type": "execute_result"
    },
    {
     "data": {
      "image/png": "[encoded data removed]",
      "text/plain": [
       "<Figure size 1200x300 with 1 Axes>"
      ]
     },
     "metadata": {},
     "output_type": "display_data"
    }
   ],
   "source": [
    "matriz_agregacao = df[df['cargo2']!='Não informado']\n",
    "\n",
    "matriz_agregacao = matriz_agregacao.groupby(['cargo2', 'fx_salarial2'])['cargo2'].count().unstack().fillna(0)\n",
    "matriz_agregacao = matriz_agregacao.apply(lambda x: x/x.sum(), axis=1) * 100\n",
    "matriz_agregacao = matriz_agregacao.astype(float)\n",
    "\n",
    "ax = matriz_agregacao.plot(kind = 'barh', stacked=True, figsize=(12,3), fontsize =12, xlim=[0,130], )\n",
    "\n",
    "for container in ax.containers:\n",
    "    ax.bar_label(container, label_type='center', fmt = '%.0f%%', weight = 'bold', color = 'white', fontsize =11)\n",
    "\n",
    "ax.legend(loc='upper right')\n",
    "ax.set_title(\"Faixa de Salarial - Cargo\", fontsize=16, weight = 'bold')\n",
    "ax.spines[['right', 'top', 'bottom']].set_visible(False)\n",
    "ax.set(ylabel=None)\n",
    "ax.set_xticks([], [])\n"
   ]
  },
  {
   "attachments": {},
   "cell_type": "markdown",
   "metadata": {},
   "source": [
    "Concentração de Analistas e Outros cargos em menores faixas de rendas quando comparados com Cientistas e Engenheiros"
   ]
  },
  {
   "attachments": {},
   "cell_type": "markdown",
   "metadata": {},
   "source": [
    "### Distribuição de idade por Cargo (Seaborn)"
   ]
  },
  {
   "cell_type": "code",
   "execution_count": 8,
   "metadata": {},
   "outputs": [
    {
     "data": {
      "image/png": "[encoded data removed]",
      "text/plain": [
       "<Figure size 628.75x500 with 1 Axes>"
      ]
     },
     "metadata": {},
     "output_type": "display_data"
    }
   ],
   "source": [
    "df_idade = df[(df['Idade']>15)&(df['cargo2']!='Não informado')][['cargo2', 'Idade']]\n",
    "df_idade = df_idade.rename(columns={\"Idade\": \"idade\", \"cargo2\": \"Cargo\"})\n",
    "\n",
    "ax = sns.displot(df_idade, x=\"idade\", hue=\"Cargo\", kind=\"kde\", fill=True)\n",
    "\n",
    "# Adicionando título e rótulos dos eixos x e y\n",
    "plt.title(\"Distribuição de Idade\")\n",
    "plt.xlabel(\"Idade\")\n",
    "plt.ylabel(\"Densidade\")\n",
    "\n",
    "# Adicionando grade\n",
    "plt.grid(True)\n",
    "\n",
    "# Mostrando o gráfico\n",
    "plt.show()"
   ]
  },
  {
   "attachments": {},
   "cell_type": "markdown",
   "metadata": {},
   "source": [
    "A idade dos funcionários segue uma distribuição normal para todos os cargos, com tendência à esquerda, exceto para outros cargos"
   ]
  },
  {
   "attachments": {},
   "cell_type": "markdown",
   "metadata": {},
   "source": [
    "### Distribuição acumulada de idade por Cargo (Seaborn)"
   ]
  },
  {
   "cell_type": "code",
   "execution_count": 9,
   "metadata": {},
   "outputs": [
    {
     "data": {
      "image/png": "[encoded data removed]",
      "text/plain": [
       "<Figure size 640x480 with 1 Axes>"
      ]
     },
     "metadata": {},
     "output_type": "display_data"
    }
   ],
   "source": [
    "sns.kdeplot(\n",
    "    data=df_idade, x=\"idade\", hue=\"Cargo\",\n",
    "    cumulative=True, common_norm=False, common_grid=True,\n",
    ")\n",
    "\n",
    "# Adicionando título e rótulos dos eixos x e y\n",
    "plt.title(\"Distribuição Acumulada de Idade\")\n",
    "plt.xlabel(\"Idade\")\n",
    "plt.ylabel(\"Densidade\")\n",
    "\n",
    "# Adicionando grade\n",
    "plt.grid(True)\n",
    "\n",
    "# Mostrando o gráfico\n",
    "plt.show()"
   ]
  },
  {
   "attachments": {},
   "cell_type": "markdown",
   "metadata": {},
   "source": [
    "A distribuição de idade dos engenheiros e analistas é igual, enquanto a dos cientistas de dados tem maior concentração em idades menores e a dos outros cargos tem uma concentração maior em idades mais altas."
   ]
  },
  {
   "attachments": {},
   "cell_type": "markdown",
   "metadata": {},
   "source": [
    "### Regime de Trabalho por Cargo (Matplotlib)"
   ]
  },
  {
   "cell_type": "code",
   "execution_count": 10,
   "metadata": {},
   "outputs": [],
   "source": [
    "df_regime = df_filtrado[[\"regime_trabalho\", 'cargo2']]\n",
    "\n",
    "df_regime_agrupado = df_regime.groupby([\"regime_trabalho\", \"cargo2\"]).size().reset_index()\n",
    "df_regime_agrupado = df_regime_agrupado.rename(columns={'cargo2': 'cargo'})\n",
    "df_regime_agrupado.columns.values[2] = 'qtd'\n",
    "df_regime_agrupado.set_index('cargo', inplace=True)\n",
    "\n",
    "\n",
    "df_regime_agrupado = df_regime_agrupado.groupby([\"cargo\", \"regime_trabalho\"])[\"qtd\"].sum().unstack()\n",
    "df_regime_agrupado\n",
    "\n",
    "cargos = df_regime_agrupado.index.to_list()\n",
    "presencial = df_regime_agrupado[\"Modelo 100% presencial\"]\n",
    "remoto = df_regime_agrupado[\"Modelo 100% remoto\"]\n",
    "hibrido_fixo = df_regime_agrupado[\"Modelo híbrido com dias fixos de trabalho presencial\"]\n",
    "hibrido_flexivel = df_regime_agrupado[\"Modelo híbrido flexível (o funcionário tem liberdade para escolher quando estar no escritório presencialmente)\"]\n",
    "\n",
    "x = np.arange(len(cargos)) # localização dos labels para o eixo-x\n",
    "width = 0.4\n",
    "\n",
    "# fig, ax = plt.subplots(1,1, figsize = (15,8))\n",
    "# colors = ['#e6ccff', '#b566ff', '#8400ff', '#4f0099']\n",
    "# rects1 = ax.bar(x -width, presencial, width/2, label = '100% presencial', color = colors[0])\n",
    "# rects2 = ax.bar(x - width/2, remoto, width/2, label = '100% remoto', color = colors[1])\n",
    "# rects3 = ax.bar(x , hibrido_fixo, width/2, label = 'Híbrido fixo', color = colors[2])\n",
    "# rects4 = ax.bar(x + width/2, hibrido_flexivel, width/2, label = 'Híbrido flexível', color = colors[3])\n",
    "\n",
    "# # Adicionado informações aos eixos\n",
    "# ax.set_ylabel('Quantidade')\n",
    "# ax.set_title('Regime de trabalho agrupado por cargos')\n",
    "# ax.set_xticks(x, cargos)\n",
    "# ax.legend()\n",
    "\n",
    "# # Adicionando os labels às barras\n",
    "# ax.bar_label(rects1, padding = 3)\n",
    "# ax.bar_label(rects2, padding = 3)\n",
    "# ax.bar_label(rects3, padding = 3)\n",
    "# ax.bar_label(rects4, padding = 3)\n",
    "\n",
    "\n",
    "# # plt.tight_layout()\n",
    "# plt.show()"
   ]
  },
  {
   "cell_type": "code",
   "execution_count": 11,
   "metadata": {},
   "outputs": [
    {
     "data": {
      "image/png": "[encoded data removed]",
      "text/plain": [
       "<Figure size 1500x800 with 1 Axes>"
      ]
     },
     "metadata": {},
     "output_type": "display_data"
    }
   ],
   "source": [
    "cargos = df_regime_agrupado.index.to_list()\n",
    "total = df_regime_agrupado.sum(axis=1) # soma das quantidades para cada cargo\n",
    "presencial_prop = df_regime_agrupado[\"Modelo 100% presencial\"] / total # proporção de funcionários em regime 100% presencial\n",
    "remoto_prop = df_regime_agrupado[\"Modelo 100% remoto\"] / total # proporção de funcionários em regime 100% remoto\n",
    "hibrido_fixo_prop = df_regime_agrupado[\"Modelo híbrido com dias fixos de trabalho presencial\"] / total # proporção de funcionários em regime híbrido fixo\n",
    "hibrido_flexivel_prop = df_regime_agrupado[\"Modelo híbrido flexível (o funcionário tem liberdade para escolher quando estar no escritório presencialmente)\"] / total # proporção de funcionários em regime híbrido flexível\n",
    "\n",
    "x = np.arange(len(cargos)) # localização dos labels para o eixo-x\n",
    "width = 0.4\n",
    "\n",
    "fig, ax = plt.subplots(1,1, figsize = (15,8))\n",
    "colors = ['#e6ccff', '#b566ff', '#8400ff', '#4f0099']\n",
    "rects1 = ax.bar(x -width, presencial_prop, width/2, label = '100% presencial', color = colors[0])\n",
    "rects2 = ax.bar(x - width/2, remoto_prop, width/2, label = '100% remoto', color = colors[1])\n",
    "rects3 = ax.bar(x , hibrido_fixo_prop, width/2, label = 'Híbrido fixo', color = colors[2])\n",
    "rects4 = ax.bar(x + width/2, hibrido_flexivel_prop, width/2, label = 'Híbrido flexível', color = colors[3])\n",
    "\n",
    "# Adicionado informações aos eixos\n",
    "ax.set_ylabel('Proporção (%)')\n",
    "ax.set_ylim([0, 1]) # definindo os limites do eixo y\n",
    "ax.set_yticklabels(['0', '20', '40', '60', '80', '100'])\n",
    "ax.set_title('Regime de trabalho por cargos')\n",
    "ax.set_xticks(x, cargos)\n",
    "ax.legend()\n",
    "\n",
    "\n",
    "# Adicionando os labels às barras\n",
    "ax.bar_label(rects1, padding = 3, labels = [f\"{val*100:.2f}%\" for val in presencial_prop])\n",
    "ax.bar_label(rects2, padding = 3, labels = [f\"{val*100:.2f}%\" for val in remoto_prop])\n",
    "ax.bar_label(rects3, padding = 3, labels = [f\"{val*100:.2f}%\" for val in hibrido_fixo_prop])\n",
    "ax.bar_label(rects4, padding = 3, labels = [f\"{val*100:.2f}%\" for val in hibrido_flexivel_prop])\n",
    "\n",
    "plt.show()"
   ]
  },
  {
   "attachments": {},
   "cell_type": "markdown",
   "metadata": {},
   "source": [
    "Pode-se notar que a grande maioria do regime de trabalho é 100% remoto. Com exceção dos outros onde o regime 100% presencial é bem próximo do regime 100% remoto. Dentre os três principais funções, o de analista é o que possiu uma menor proporção de cargos 100% remoto. \n",
    "\n",
    "Enquanto os cargos de Cientista e Engenheiro possuem uma distribuição parecida, com a grande maioria 100% remota, seguida de remota flexível."
   ]
  },
  {
   "attachments": {},
   "cell_type": "markdown",
   "metadata": {},
   "source": [
    "### Tipo de dados utilizados no ambiente de trabalho por Cargo (Matplotlib)"
   ]
  },
  {
   "cell_type": "code",
   "execution_count": 12,
   "metadata": {},
   "outputs": [
    {
     "data": {
      "image/png": "[encoded data removed]",
      "text/plain": [
       "<Figure size 1600x800 with 1 Axes>"
      ]
     },
     "metadata": {},
     "output_type": "display_data"
    }
   ],
   "source": [
    "cols = ['cargo2','dados_sql','dados_nosql','dados_img','dados_texto','dados_video',\n",
    "        'dados_audio','dados_planilhas']\n",
    "\n",
    "dados_agr = round((df.loc[df['cargo2'].isin(['Analista','Cientista','Engenheiro'])][cols].groupby('cargo2').mean().transpose())*100,1)\n",
    "dados_agr = dados_agr.reset_index()\n",
    "dados_agr['index'] = dados_agr['index'].str.slice(start=6).str.capitalize()\n",
    "\n",
    "dados = dados_agr[\"index\"].to_list()\n",
    "cientista = dados_agr[\"Cientista\"]\n",
    "engenheiro = dados_agr[\"Engenheiro\"]\n",
    "analista = dados_agr[\"Analista\"]\n",
    "\n",
    "x = np.arange(len(dados)) # localização dos labels para o eixo-x\n",
    "width = 0.45\n",
    "\n",
    "fig, ax = plt.subplots(1,1, figsize = (16,8))\n",
    "colors = ['#bf80ff', '#8000ff', '#330066', '#4f0099']\n",
    "rects1 = ax.bar(x -width/2, analista, width/2, label = 'Analista', color = colors[0])\n",
    "rects2 = ax.bar(x , cientista, width/2, label = 'Cientista', color = colors[1])\n",
    "rects3 = ax.bar(x + width/2 , engenheiro, width/2, label = 'Engenheiro', color = colors[2])\n",
    "\n",
    "\n",
    "# Adicionado informações aos eixos\n",
    "ax.set_ylabel('Proporção (%)')\n",
    "ax.set_title('Tipos de Dados mais Utilizados por Função')\n",
    "ax.set_xticks(x, dados)\n",
    "ax.legend()\n",
    "\n",
    "# Adicionando os labels às barras\n",
    "ax.bar_label(rects1, padding = 3)\n",
    "ax.bar_label(rects2, padding = 3)\n",
    "ax.bar_label(rects3, padding = 3)\n",
    "\n",
    "# plt.tight_layout()\n",
    "plt.show()"
   ]
  },
  {
   "attachments": {},
   "cell_type": "markdown",
   "metadata": {},
   "source": [
    "Pode-se notar que o SQL é o tipo de dado mais utilizado pelos profissionias na área. Em sequêcia vem as planilhas, principalmente pelo Analistas que utilizam o Excel para abastecer sua base de dados. Em sequencia o NoSQL, destaque para os Engenheiros de Dados, que devido a maior quantidade de dados (Big Data), preferem esse tipo de dado. As imagens, video e audio possuem uma proporção bastante reduzida de utilidade, uma vez que suas aplicações tendem a ser mais especificas e trabalhosas."
   ]
  },
  {
   "attachments": {},
   "cell_type": "markdown",
   "metadata": {},
   "source": [
    "**Os gráficos em plotly não aparecem no github - rodar local**"
   ]
  },
  {
   "attachments": {},
   "cell_type": "markdown",
   "metadata": {},
   "source": [
    "### Linguagem utilizada no ambiente de trabalho por Cargo (Plotly)\n"
   ]
  },
  {
   "cell_type": "code",
   "execution_count": 13,
   "metadata": {},
   "outputs": [
    {
     "data": {
      "application/vnd.plotly.v1+json": {
       "config": {
        "plotlyServerURL": "https://plot.ly"
       },
       "data": [
        {
         "marker": {
          "color": "#bf80ff"
         },
         "name": "Analista",
         "type": "bar",
         "x": [
          "Sql",
          "R",
          "Python",
          "C",
          "Net",
          "Java",
          "Julia",
          "Sas",
          "Vba",
          "Scala",
          "Matlab",
          "Php",
          "Javascript",
          "Nenhuma"
         ],
         "y": [
          60.5,
          3,
          20,
          0.1,
          0,
          0.5,
          0,
          1.2,
          3.7,
          1,
          0,
          0,
          0.5,
          9.9
         ]
        },
        {
         "marker": {
          "color": "#8000ff"
         },
         "name": "Cientista",
         "type": "bar",
         "x": [
          "Sql",
          "R",
          "Python",
          "C",
          "Net",
          "Java",
          "Julia",
          "Sas",
          "Vba",
          "Scala",
          "Matlab",
          "Php",
          "Javascript",
          "Nenhuma"
         ],
         "y": [
          10.9,
          8.1,
          78.7,
          0.3,
          0,
          0,
          0,
          0.6,
          0,
          0.8,
          0,
          0,
          0,
          0.6
         ]
        },
        {
         "marker": {
          "color": "#330066"
         },
         "name": "Engenheiro",
         "type": "bar",
         "x": [
          "Sql",
          "R",
          "Python",
          "C",
          "Net",
          "Java",
          "Julia",
          "Sas",
          "Vba",
          "Scala",
          "Matlab",
          "Php",
          "Javascript",
          "Nenhuma"
         ],
         "y": [
          35.6,
          1.1,
          59.3,
          0.5,
          0,
          0.3,
          0,
          0,
          0.3,
          2.2,
          0.3,
          0,
          0,
          0.5
         ]
        }
       ],
       "layout": {
        "autosize": true,
        "barmode": "group",
        "plot_bgcolor": "rgba(0,0,0,0)",
        "template": {
         "data": {
          "bar": [
           {
            "error_x": {
             "color": "rgb(36,36,36)"
            },
            "error_y": {
             "color": "rgb(36,36,36)"
            },
            "marker": {
             "line": {
              "color": "white",
              "width": 0.5
             },
             "pattern": {
              "fillmode": "overlay",
              "size": 10,
              "solidity": 0.2
             }
            },
            "type": "bar"
           }
          ],
          "barpolar": [
           {
            "marker": {
             "line": {
              "color": "white",
              "width": 0.5
             },
             "pattern": {
              "fillmode": "overlay",
              "size": 10,
              "solidity": 0.2
             }
            },
            "type": "barpolar"
           }
          ],
          "carpet": [
           {
            "aaxis": {
             "endlinecolor": "rgb(36,36,36)",
             "gridcolor": "white",
             "linecolor": "white",
             "minorgridcolor": "white",
             "startlinecolor": "rgb(36,36,36)"
            },
            "baxis": {
             "endlinecolor": "rgb(36,36,36)",
             "gridcolor": "white",
             "linecolor": "white",
             "minorgridcolor": "white",
             "startlinecolor": "rgb(36,36,36)"
            },
            "type": "carpet"
           }
          ],
          "choropleth": [
           {
            "colorbar": {
             "outlinewidth": 1,
             "tickcolor": "rgb(36,36,36)",
             "ticks": "outside"
            },
            "type": "choropleth"
           }
          ],
          "contour": [
           {
            "colorbar": {
             "outlinewidth": 1,
             "tickcolor": "rgb(36,36,36)",
             "ticks": "outside"
            },
            "colorscale": [
             [
              0,
              "#440154"
             ],
             [
              0.1111111111111111,
              "#482878"
             ],
             [
              0.2222222222222222,
              "#3e4989"
             ],
             [
              0.3333333333333333,
              "#31688e"
             ],
             [
              0.4444444444444444,
              "#26828e"
             ],
             [
              0.5555555555555556,
              "#1f9e89"
             ],
             [
              0.6666666666666666,
              "#35b779"
             ],
             [
              0.7777777777777778,
              "#6ece58"
             ],
             [
              0.8888888888888888,
              "#b5de2b"
             ],
             [
              1,
              "#fde725"
             ]
            ],
            "type": "contour"
           }
          ],
          "contourcarpet": [
           {
            "colorbar": {
             "outlinewidth": 1,
             "tickcolor": "rgb(36,36,36)",
             "ticks": "outside"
            },
            "type": "contourcarpet"
           }
          ],
          "heatmap": [
           {
            "colorbar": {
             "outlinewidth": 1,
             "tickcolor": "rgb(36,36,36)",
             "ticks": "outside"
            },
            "colorscale": [
             [
              0,
              "#440154"
             ],
             [
              0.1111111111111111,
              "#482878"
             ],
             [
              0.2222222222222222,
              "#3e4989"
             ],
             [
              0.3333333333333333,
              "#31688e"
             ],
             [
              0.4444444444444444,
              "#26828e"
             ],
             [
              0.5555555555555556,
              "#1f9e89"
             ],
             [
              0.6666666666666666,
              "#35b779"
             ],
             [
              0.7777777777777778,
              "#6ece58"
             ],
             [
              0.8888888888888888,
              "#b5de2b"
             ],
             [
              1,
              "#fde725"
             ]
            ],
            "type": "heatmap"
           }
          ],
          "heatmapgl": [
           {
            "colorbar": {
             "outlinewidth": 1,
             "tickcolor": "rgb(36,36,36)",
             "ticks": "outside"
            },
            "colorscale": [
             [
              0,
              "#440154"
             ],
             [
              0.1111111111111111,
              "#482878"
             ],
             [
              0.2222222222222222,
              "#3e4989"
             ],
             [
              0.3333333333333333,
              "#31688e"
             ],
             [
              0.4444444444444444,
              "#26828e"
             ],
             [
              0.5555555555555556,
              "#1f9e89"
             ],
             [
              0.6666666666666666,
              "#35b779"
             ],
             [
              0.7777777777777778,
              "#6ece58"
             ],
             [
              0.8888888888888888,
              "#b5de2b"
             ],
             [
              1,
              "#fde725"
             ]
            ],
            "type": "heatmapgl"
           }
          ],
          "histogram": [
           {
            "marker": {
             "line": {
              "color": "white",
              "width": 0.6
             }
            },
            "type": "histogram"
           }
          ],
          "histogram2d": [
           {
            "colorbar": {
             "outlinewidth": 1,
             "tickcolor": "rgb(36,36,36)",
             "ticks": "outside"
            },
            "colorscale": [
             [
              0,
              "#440154"
             ],
             [
              0.1111111111111111,
              "#482878"
             ],
             [
              0.2222222222222222,
              "#3e4989"
             ],
             [
              0.3333333333333333,
              "#31688e"
             ],
             [
              0.4444444444444444,
              "#26828e"
             ],
             [
              0.5555555555555556,
              "#1f9e89"
             ],
             [
              0.6666666666666666,
              "#35b779"
             ],
             [
              0.7777777777777778,
              "#6ece58"
             ],
             [
              0.8888888888888888,
              "#b5de2b"
             ],
             [
              1,
              "#fde725"
             ]
            ],
            "type": "histogram2d"
           }
          ],
          "histogram2dcontour": [
           {
            "colorbar": {
             "outlinewidth": 1,
             "tickcolor": "rgb(36,36,36)",
             "ticks": "outside"
            },
            "colorscale": [
             [
              0,
              "#440154"
             ],
             [
              0.1111111111111111,
              "#482878"
             ],
             [
              0.2222222222222222,
              "#3e4989"
             ],
             [
              0.3333333333333333,
              "#31688e"
             ],
             [
              0.4444444444444444,
              "#26828e"
             ],
             [
              0.5555555555555556,
              "#1f9e89"
             ],
             [
              0.6666666666666666,
              "#35b779"
             ],
             [
              0.7777777777777778,
              "#6ece58"
             ],
             [
              0.8888888888888888,
              "#b5de2b"
             ],
             [
              1,
              "#fde725"
             ]
            ],
            "type": "histogram2dcontour"
           }
          ],
          "mesh3d": [
           {
            "colorbar": {
             "outlinewidth": 1,
             "tickcolor": "rgb(36,36,36)",
             "ticks": "outside"
            },
            "type": "mesh3d"
           }
          ],
          "parcoords": [
           {
            "line": {
             "colorbar": {
              "outlinewidth": 1,
              "tickcolor": "rgb(36,36,36)",
              "ticks": "outside"
             }
            },
            "type": "parcoords"
           }
          ],
          "pie": [
           {
            "automargin": true,
            "type": "pie"
           }
          ],
          "scatter": [
           {
            "fillpattern": {
             "fillmode": "overlay",
             "size": 10,
             "solidity": 0.2
            },
            "type": "scatter"
           }
          ],
          "scatter3d": [
           {
            "line": {
             "colorbar": {
              "outlinewidth": 1,
              "tickcolor": "rgb(36,36,36)",
              "ticks": "outside"
             }
            },
            "marker": {
             "colorbar": {
              "outlinewidth": 1,
              "tickcolor": "rgb(36,36,36)",
              "ticks": "outside"
             }
            },
            "type": "scatter3d"
           }
          ],
          "scattercarpet": [
           {
            "marker": {
             "colorbar": {
              "outlinewidth": 1,
              "tickcolor": "rgb(36,36,36)",
              "ticks": "outside"
             }
            },
            "type": "scattercarpet"
           }
          ],
          "scattergeo": [
           {
            "marker": {
             "colorbar": {
              "outlinewidth": 1,
              "tickcolor": "rgb(36,36,36)",
              "ticks": "outside"
             }
            },
            "type": "scattergeo"
           }
          ],
          "scattergl": [
           {
            "marker": {
             "colorbar": {
              "outlinewidth": 1,
              "tickcolor": "rgb(36,36,36)",
              "ticks": "outside"
             }
            },
            "type": "scattergl"
           }
          ],
          "scattermapbox": [
           {
            "marker": {
             "colorbar": {
              "outlinewidth": 1,
              "tickcolor": "rgb(36,36,36)",
              "ticks": "outside"
             }
            },
            "type": "scattermapbox"
           }
          ],
          "scatterpolar": [
           {
            "marker": {
             "colorbar": {
              "outlinewidth": 1,
              "tickcolor": "rgb(36,36,36)",
              "ticks": "outside"
             }
            },
            "type": "scatterpolar"
           }
          ],
          "scatterpolargl": [
           {
            "marker": {
             "colorbar": {
              "outlinewidth": 1,
              "tickcolor": "rgb(36,36,36)",
              "ticks": "outside"
             }
            },
            "type": "scatterpolargl"
           }
          ],
          "scatterternary": [
           {
            "marker": {
             "colorbar": {
              "outlinewidth": 1,
              "tickcolor": "rgb(36,36,36)",
              "ticks": "outside"
             }
            },
            "type": "scatterternary"
           }
          ],
          "surface": [
           {
            "colorbar": {
             "outlinewidth": 1,
             "tickcolor": "rgb(36,36,36)",
             "ticks": "outside"
            },
            "colorscale": [
             [
              0,
              "#440154"
             ],
             [
              0.1111111111111111,
              "#482878"
             ],
             [
              0.2222222222222222,
              "#3e4989"
             ],
             [
              0.3333333333333333,
              "#31688e"
             ],
             [
              0.4444444444444444,
              "#26828e"
             ],
             [
              0.5555555555555556,
              "#1f9e89"
             ],
             [
              0.6666666666666666,
              "#35b779"
             ],
             [
              0.7777777777777778,
              "#6ece58"
             ],
             [
              0.8888888888888888,
              "#b5de2b"
             ],
             [
              1,
              "#fde725"
             ]
            ],
            "type": "surface"
           }
          ],
          "table": [
           {
            "cells": {
             "fill": {
              "color": "rgb(237,237,237)"
             },
             "line": {
              "color": "white"
             }
            },
            "header": {
             "fill": {
              "color": "rgb(217,217,217)"
             },
             "line": {
              "color": "white"
             }
            },
            "type": "table"
           }
          ]
         },
         "layout": {
          "annotationdefaults": {
           "arrowhead": 0,
           "arrowwidth": 1
          },
          "autotypenumbers": "strict",
          "coloraxis": {
           "colorbar": {
            "outlinewidth": 1,
            "tickcolor": "rgb(36,36,36)",
            "ticks": "outside"
           }
          },
          "colorscale": {
           "diverging": [
            [
             0,
             "rgb(103,0,31)"
            ],
            [
             0.1,
             "rgb(178,24,43)"
            ],
            [
             0.2,
             "rgb(214,96,77)"
            ],
            [
             0.3,
             "rgb(244,165,130)"
            ],
            [
             0.4,
             "rgb(253,219,199)"
            ],
            [
             0.5,
             "rgb(247,247,247)"
            ],
            [
             0.6,
             "rgb(209,229,240)"
            ],
            [
             0.7,
             "rgb(146,197,222)"
            ],
            [
             0.8,
             "rgb(67,147,195)"
            ],
            [
             0.9,
             "rgb(33,102,172)"
            ],
            [
             1,
             "rgb(5,48,97)"
            ]
           ],
           "sequential": [
            [
             0,
             "#440154"
            ],
            [
             0.1111111111111111,
             "#482878"
            ],
            [
             0.2222222222222222,
             "#3e4989"
            ],
            [
             0.3333333333333333,
             "#31688e"
            ],
            [
             0.4444444444444444,
             "#26828e"
            ],
            [
             0.5555555555555556,
             "#1f9e89"
            ],
            [
             0.6666666666666666,
             "#35b779"
            ],
            [
             0.7777777777777778,
             "#6ece58"
            ],
            [
             0.8888888888888888,
             "#b5de2b"
            ],
            [
             1,
             "#fde725"
            ]
           ],
           "sequentialminus": [
            [
             0,
             "#440154"
            ],
            [
             0.1111111111111111,
             "#482878"
            ],
            [
             0.2222222222222222,
             "#3e4989"
            ],
            [
             0.3333333333333333,
             "#31688e"
            ],
            [
             0.4444444444444444,
             "#26828e"
            ],
            [
             0.5555555555555556,
             "#1f9e89"
            ],
            [
             0.6666666666666666,
             "#35b779"
            ],
            [
             0.7777777777777778,
             "#6ece58"
            ],
            [
             0.8888888888888888,
             "#b5de2b"
            ],
            [
             1,
             "#fde725"
            ]
           ]
          },
          "colorway": [
           "#1F77B4",
           "#FF7F0E",
           "#2CA02C",
           "#D62728",
           "#9467BD",
           "#8C564B",
           "#E377C2",
           "#7F7F7F",
           "#BCBD22",
           "#17BECF"
          ],
          "font": {
           "color": "rgb(36,36,36)"
          },
          "geo": {
           "bgcolor": "white",
           "lakecolor": "white",
           "landcolor": "white",
           "showlakes": true,
           "showland": true,
           "subunitcolor": "white"
          },
          "hoverlabel": {
           "align": "left"
          },
          "hovermode": "closest",
          "mapbox": {
           "style": "light"
          },
          "paper_bgcolor": "white",
          "plot_bgcolor": "white",
          "polar": {
           "angularaxis": {
            "gridcolor": "rgb(232,232,232)",
            "linecolor": "rgb(36,36,36)",
            "showgrid": false,
            "showline": true,
            "ticks": "outside"
           },
           "bgcolor": "white",
           "radialaxis": {
            "gridcolor": "rgb(232,232,232)",
            "linecolor": "rgb(36,36,36)",
            "showgrid": false,
            "showline": true,
            "ticks": "outside"
           }
          },
          "scene": {
           "xaxis": {
            "backgroundcolor": "white",
            "gridcolor": "rgb(232,232,232)",
            "gridwidth": 2,
            "linecolor": "rgb(36,36,36)",
            "showbackground": true,
            "showgrid": false,
            "showline": true,
            "ticks": "outside",
            "zeroline": false,
            "zerolinecolor": "rgb(36,36,36)"
           },
           "yaxis": {
            "backgroundcolor": "white",
            "gridcolor": "rgb(232,232,232)",
            "gridwidth": 2,
            "linecolor": "rgb(36,36,36)",
            "showbackground": true,
            "showgrid": false,
            "showline": true,
            "ticks": "outside",
            "zeroline": false,
            "zerolinecolor": "rgb(36,36,36)"
           },
           "zaxis": {
            "backgroundcolor": "white",
            "gridcolor": "rgb(232,232,232)",
            "gridwidth": 2,
            "linecolor": "rgb(36,36,36)",
            "showbackground": true,
            "showgrid": false,
            "showline": true,
            "ticks": "outside",
            "zeroline": false,
            "zerolinecolor": "rgb(36,36,36)"
           }
          },
          "shapedefaults": {
           "fillcolor": "black",
           "line": {
            "width": 0
           },
           "opacity": 0.3
          },
          "ternary": {
           "aaxis": {
            "gridcolor": "rgb(232,232,232)",
            "linecolor": "rgb(36,36,36)",
            "showgrid": false,
            "showline": true,
            "ticks": "outside"
           },
           "baxis": {
            "gridcolor": "rgb(232,232,232)",
            "linecolor": "rgb(36,36,36)",
            "showgrid": false,
            "showline": true,
            "ticks": "outside"
           },
           "bgcolor": "white",
           "caxis": {
            "gridcolor": "rgb(232,232,232)",
            "linecolor": "rgb(36,36,36)",
            "showgrid": false,
            "showline": true,
            "ticks": "outside"
           }
          },
          "title": {
           "x": 0.05
          },
          "xaxis": {
           "automargin": true,
           "gridcolor": "rgb(232,232,232)",
           "linecolor": "rgb(36,36,36)",
           "showgrid": false,
           "showline": true,
           "ticks": "outside",
           "title": {
            "standoff": 15
           },
           "zeroline": false,
           "zerolinecolor": "rgb(36,36,36)"
          },
          "yaxis": {
           "automargin": true,
           "gridcolor": "rgb(232,232,232)",
           "linecolor": "rgb(36,36,36)",
           "showgrid": false,
           "showline": true,
           "ticks": "outside",
           "title": {
            "standoff": 15
           },
           "zeroline": false,
           "zerolinecolor": "rgb(36,36,36)"
          }
         }
        },
        "title": {
         "text": "Linguagem mais utilizada por função",
         "x": 0.5
        },
        "yaxis": {
         "title": {
          "text": "Proporção (%)"
         }
        }
       }
      }
     },
     "metadata": {},
     "output_type": "display_data"
    }
   ],
   "source": [
    "cols = ['cargo2','ling_sql','ling_r','ling_python','ling_c','ling_net',\n",
    "        'ling_java','ling_julia','ling_sas','ling_vba','ling_scala','ling_matlab',\n",
    "        'ling_php','ling_javascript','ling_nenhuma']\n",
    "\n",
    "linguagens = round((df.loc[df['cargo2'].isin(['Analista','Cientista','Engenheiro'])][cols].groupby('cargo2').mean().transpose())*100,1)\n",
    "linguagens = linguagens.reset_index()\n",
    "linguagens['index'] = linguagens['index'].str.slice(start=5).str.capitalize()\n",
    "# linguagens\n",
    "\n",
    "fig = go.Figure(data = [\n",
    "    go.Bar(name='Analista', x = linguagens['index'], y = linguagens['Analista'], marker_color = '#bf80ff'),\n",
    "    go.Bar(name='Cientista', x = linguagens['index'], y = linguagens['Cientista'], marker_color = '#8000ff'),\n",
    "    go.Bar(name='Engenheiro', x = linguagens['index'], y = linguagens['Engenheiro'], marker_color = '#330066')\n",
    "])\n",
    "\n",
    "fig.update_layout(template = 'simple_white', autosize=True, barmode='group')\n",
    "fig.update_layout(plot_bgcolor='rgba(0,0,0,0)', title_text = 'Linguagem mais utilizada por função' , title_x = 0.5)\n",
    "fig['layout']['yaxis']['title']='Proporção (%)'\n",
    "\n",
    "fig.show()"
   ]
  },
  {
   "attachments": {},
   "cell_type": "markdown",
   "metadata": {},
   "source": [
    "Em relação as linguagens, a frequência também faz sentido com o esperado considerando que a pesquisa é relacionado à profissionais de Data, priorizando a tríade SQL/Python/R, e uma outra categoria que se destaca é a **Nenhuma** que provavelmente são as análises em Excel que os Analistas realizam\n",
    "\n",
    "Analistas utilizam mais SQL seguido de Python > Nenhuma > R e os Cientistas de Dados mais seguem mais focados no Python com baixo uso de SQL e R\n",
    "\n",
    "Como R é uma linguagem de programação muito voltada para análise de dados/modelagem observamos uma frequência reduzida quando consideramos os Engenheiros que se utiliza basicamente Python e SQL"
   ]
  },
  {
   "attachments": {},
   "cell_type": "markdown",
   "metadata": {},
   "source": [
    "### Comparação de faixa salárial por gênero (Plotly)"
   ]
  },
  {
   "cell_type": "code",
   "execution_count": 14,
   "metadata": {},
   "outputs": [
    {
     "data": {
      "application/vnd.plotly.v1+json": {
       "config": {
        "plotlyServerURL": "https://plot.ly"
       },
       "data": [
        {
         "hovertemplate": "Gênero=Feminino<br>Faixa Salarial=%{x}<br>Proporcao=%{y}<extra></extra>",
         "legendgroup": "Feminino",
         "line": {
          "color": "#d9b3ff",
          "dash": "solid"
         },
         "marker": {
          "symbol": "circle"
         },
         "mode": "markers+lines",
         "name": "Feminino",
         "orientation": "v",
         "showlegend": true,
         "type": "scatter",
         "x": [
          "a) Até 2.000",
          "c) 2.000 a 4.000",
          "d) 4.000 a 8.000",
          "e) 8.000 a 12.000",
          "f) 12.000 a 20.000",
          "g) Acima 25.000"
         ],
         "xaxis": "x",
         "y": [
          6.4,
          18.3,
          37.4,
          22.2,
          11.5,
          4.1
         ],
         "yaxis": "y"
        },
        {
         "hovertemplate": "Gênero=Masculino<br>Faixa Salarial=%{x}<br>Proporcao=%{y}<extra></extra>",
         "legendgroup": "Masculino",
         "line": {
          "color": "#7300e6",
          "dash": "solid"
         },
         "marker": {
          "symbol": "circle"
         },
         "mode": "markers+lines",
         "name": "Masculino",
         "orientation": "v",
         "showlegend": true,
         "type": "scatter",
         "x": [
          "a) Até 2.000",
          "c) 2.000 a 4.000",
          "d) 4.000 a 8.000",
          "e) 8.000 a 12.000",
          "f) 12.000 a 20.000",
          "g) Acima 25.000"
         ],
         "xaxis": "x",
         "y": [
          6.7,
          14.7,
          32.7,
          19.9,
          17.8,
          8.2
         ],
         "yaxis": "y"
        }
       ],
       "layout": {
        "autosize": true,
        "legend": {
         "title": {
          "text": "Gênero"
         },
         "tracegroupgap": 0
        },
        "margin": {
         "t": 60
        },
        "plot_bgcolor": "rgba(0,0,0,0)",
        "template": {
         "data": {
          "bar": [
           {
            "error_x": {
             "color": "rgb(36,36,36)"
            },
            "error_y": {
             "color": "rgb(36,36,36)"
            },
            "marker": {
             "line": {
              "color": "white",
              "width": 0.5
             },
             "pattern": {
              "fillmode": "overlay",
              "size": 10,
              "solidity": 0.2
             }
            },
            "type": "bar"
           }
          ],
          "barpolar": [
           {
            "marker": {
             "line": {
              "color": "white",
              "width": 0.5
             },
             "pattern": {
              "fillmode": "overlay",
              "size": 10,
              "solidity": 0.2
             }
            },
            "type": "barpolar"
           }
          ],
          "carpet": [
           {
            "aaxis": {
             "endlinecolor": "rgb(36,36,36)",
             "gridcolor": "white",
             "linecolor": "white",
             "minorgridcolor": "white",
             "startlinecolor": "rgb(36,36,36)"
            },
            "baxis": {
             "endlinecolor": "rgb(36,36,36)",
             "gridcolor": "white",
             "linecolor": "white",
             "minorgridcolor": "white",
             "startlinecolor": "rgb(36,36,36)"
            },
            "type": "carpet"
           }
          ],
          "choropleth": [
           {
            "colorbar": {
             "outlinewidth": 1,
             "tickcolor": "rgb(36,36,36)",
             "ticks": "outside"
            },
            "type": "choropleth"
           }
          ],
          "contour": [
           {
            "colorbar": {
             "outlinewidth": 1,
             "tickcolor": "rgb(36,36,36)",
             "ticks": "outside"
            },
            "colorscale": [
             [
              0,
              "#440154"
             ],
             [
              0.1111111111111111,
              "#482878"
             ],
             [
              0.2222222222222222,
              "#3e4989"
             ],
             [
              0.3333333333333333,
              "#31688e"
             ],
             [
              0.4444444444444444,
              "#26828e"
             ],
             [
              0.5555555555555556,
              "#1f9e89"
             ],
             [
              0.6666666666666666,
              "#35b779"
             ],
             [
              0.7777777777777778,
              "#6ece58"
             ],
             [
              0.8888888888888888,
              "#b5de2b"
             ],
             [
              1,
              "#fde725"
             ]
            ],
            "type": "contour"
           }
          ],
          "contourcarpet": [
           {
            "colorbar": {
             "outlinewidth": 1,
             "tickcolor": "rgb(36,36,36)",
             "ticks": "outside"
            },
            "type": "contourcarpet"
           }
          ],
          "heatmap": [
           {
            "colorbar": {
             "outlinewidth": 1,
             "tickcolor": "rgb(36,36,36)",
             "ticks": "outside"
            },
            "colorscale": [
             [
              0,
              "#440154"
             ],
             [
              0.1111111111111111,
              "#482878"
             ],
             [
              0.2222222222222222,
              "#3e4989"
             ],
             [
              0.3333333333333333,
              "#31688e"
             ],
             [
              0.4444444444444444,
              "#26828e"
             ],
             [
              0.5555555555555556,
              "#1f9e89"
             ],
             [
              0.6666666666666666,
              "#35b779"
             ],
             [
              0.7777777777777778,
              "#6ece58"
             ],
             [
              0.8888888888888888,
              "#b5de2b"
             ],
             [
              1,
              "#fde725"
             ]
            ],
            "type": "heatmap"
           }
          ],
          "heatmapgl": [
           {
            "colorbar": {
             "outlinewidth": 1,
             "tickcolor": "rgb(36,36,36)",
             "ticks": "outside"
            },
            "colorscale": [
             [
              0,
              "#440154"
             ],
             [
              0.1111111111111111,
              "#482878"
             ],
             [
              0.2222222222222222,
              "#3e4989"
             ],
             [
              0.3333333333333333,
              "#31688e"
             ],
             [
              0.4444444444444444,
              "#26828e"
             ],
             [
              0.5555555555555556,
              "#1f9e89"
             ],
             [
              0.6666666666666666,
              "#35b779"
             ],
             [
              0.7777777777777778,
              "#6ece58"
             ],
             [
              0.8888888888888888,
              "#b5de2b"
             ],
             [
              1,
              "#fde725"
             ]
            ],
            "type": "heatmapgl"
           }
          ],
          "histogram": [
           {
            "marker": {
             "line": {
              "color": "white",
              "width": 0.6
             }
            },
            "type": "histogram"
           }
          ],
          "histogram2d": [
           {
            "colorbar": {
             "outlinewidth": 1,
             "tickcolor": "rgb(36,36,36)",
             "ticks": "outside"
            },
            "colorscale": [
             [
              0,
              "#440154"
             ],
             [
              0.1111111111111111,
              "#482878"
             ],
             [
              0.2222222222222222,
              "#3e4989"
             ],
             [
              0.3333333333333333,
              "#31688e"
             ],
             [
              0.4444444444444444,
              "#26828e"
             ],
             [
              0.5555555555555556,
              "#1f9e89"
             ],
             [
              0.6666666666666666,
              "#35b779"
             ],
             [
              0.7777777777777778,
              "#6ece58"
             ],
             [
              0.8888888888888888,
              "#b5de2b"
             ],
             [
              1,
              "#fde725"
             ]
            ],
            "type": "histogram2d"
           }
          ],
          "histogram2dcontour": [
           {
            "colorbar": {
             "outlinewidth": 1,
             "tickcolor": "rgb(36,36,36)",
             "ticks": "outside"
            },
            "colorscale": [
             [
              0,
              "#440154"
             ],
             [
              0.1111111111111111,
              "#482878"
             ],
             [
              0.2222222222222222,
              "#3e4989"
             ],
             [
              0.3333333333333333,
              "#31688e"
             ],
             [
              0.4444444444444444,
              "#26828e"
             ],
             [
              0.5555555555555556,
              "#1f9e89"
             ],
             [
              0.6666666666666666,
              "#35b779"
             ],
             [
              0.7777777777777778,
              "#6ece58"
             ],
             [
              0.8888888888888888,
              "#b5de2b"
             ],
             [
              1,
              "#fde725"
             ]
            ],
            "type": "histogram2dcontour"
           }
          ],
          "mesh3d": [
           {
            "colorbar": {
             "outlinewidth": 1,
             "tickcolor": "rgb(36,36,36)",
             "ticks": "outside"
            },
            "type": "mesh3d"
           }
          ],
          "parcoords": [
           {
            "line": {
             "colorbar": {
              "outlinewidth": 1,
              "tickcolor": "rgb(36,36,36)",
              "ticks": "outside"
             }
            },
            "type": "parcoords"
           }
          ],
          "pie": [
           {
            "automargin": true,
            "type": "pie"
           }
          ],
          "scatter": [
           {
            "fillpattern": {
             "fillmode": "overlay",
             "size": 10,
             "solidity": 0.2
            },
            "type": "scatter"
           }
          ],
          "scatter3d": [
           {
            "line": {
             "colorbar": {
              "outlinewidth": 1,
              "tickcolor": "rgb(36,36,36)",
              "ticks": "outside"
             }
            },
            "marker": {
             "colorbar": {
              "outlinewidth": 1,
              "tickcolor": "rgb(36,36,36)",
              "ticks": "outside"
             }
            },
            "type": "scatter3d"
           }
          ],
          "scattercarpet": [
           {
            "marker": {
             "colorbar": {
              "outlinewidth": 1,
              "tickcolor": "rgb(36,36,36)",
              "ticks": "outside"
             }
            },
            "type": "scattercarpet"
           }
          ],
          "scattergeo": [
           {
            "marker": {
             "colorbar": {
              "outlinewidth": 1,
              "tickcolor": "rgb(36,36,36)",
              "ticks": "outside"
             }
            },
            "type": "scattergeo"
           }
          ],
          "scattergl": [
           {
            "marker": {
             "colorbar": {
              "outlinewidth": 1,
              "tickcolor": "rgb(36,36,36)",
              "ticks": "outside"
             }
            },
            "type": "scattergl"
           }
          ],
          "scattermapbox": [
           {
            "marker": {
             "colorbar": {
              "outlinewidth": 1,
              "tickcolor": "rgb(36,36,36)",
              "ticks": "outside"
             }
            },
            "type": "scattermapbox"
           }
          ],
          "scatterpolar": [
           {
            "marker": {
             "colorbar": {
              "outlinewidth": 1,
              "tickcolor": "rgb(36,36,36)",
              "ticks": "outside"
             }
            },
            "type": "scatterpolar"
           }
          ],
          "scatterpolargl": [
           {
            "marker": {
             "colorbar": {
              "outlinewidth": 1,
              "tickcolor": "rgb(36,36,36)",
              "ticks": "outside"
             }
            },
            "type": "scatterpolargl"
           }
          ],
          "scatterternary": [
           {
            "marker": {
             "colorbar": {
              "outlinewidth": 1,
              "tickcolor": "rgb(36,36,36)",
              "ticks": "outside"
             }
            },
            "type": "scatterternary"
           }
          ],
          "surface": [
           {
            "colorbar": {
             "outlinewidth": 1,
             "tickcolor": "rgb(36,36,36)",
             "ticks": "outside"
            },
            "colorscale": [
             [
              0,
              "#440154"
             ],
             [
              0.1111111111111111,
              "#482878"
             ],
             [
              0.2222222222222222,
              "#3e4989"
             ],
             [
              0.3333333333333333,
              "#31688e"
             ],
             [
              0.4444444444444444,
              "#26828e"
             ],
             [
              0.5555555555555556,
              "#1f9e89"
             ],
             [
              0.6666666666666666,
              "#35b779"
             ],
             [
              0.7777777777777778,
              "#6ece58"
             ],
             [
              0.8888888888888888,
              "#b5de2b"
             ],
             [
              1,
              "#fde725"
             ]
            ],
            "type": "surface"
           }
          ],
          "table": [
           {
            "cells": {
             "fill": {
              "color": "rgb(237,237,237)"
             },
             "line": {
              "color": "white"
             }
            },
            "header": {
             "fill": {
              "color": "rgb(217,217,217)"
             },
             "line": {
              "color": "white"
             }
            },
            "type": "table"
           }
          ]
         },
         "layout": {
          "annotationdefaults": {
           "arrowhead": 0,
           "arrowwidth": 1
          },
          "autotypenumbers": "strict",
          "coloraxis": {
           "colorbar": {
            "outlinewidth": 1,
            "tickcolor": "rgb(36,36,36)",
            "ticks": "outside"
           }
          },
          "colorscale": {
           "diverging": [
            [
             0,
             "rgb(103,0,31)"
            ],
            [
             0.1,
             "rgb(178,24,43)"
            ],
            [
             0.2,
             "rgb(214,96,77)"
            ],
            [
             0.3,
             "rgb(244,165,130)"
            ],
            [
             0.4,
             "rgb(253,219,199)"
            ],
            [
             0.5,
             "rgb(247,247,247)"
            ],
            [
             0.6,
             "rgb(209,229,240)"
            ],
            [
             0.7,
             "rgb(146,197,222)"
            ],
            [
             0.8,
             "rgb(67,147,195)"
            ],
            [
             0.9,
             "rgb(33,102,172)"
            ],
            [
             1,
             "rgb(5,48,97)"
            ]
           ],
           "sequential": [
            [
             0,
             "#440154"
            ],
            [
             0.1111111111111111,
             "#482878"
            ],
            [
             0.2222222222222222,
             "#3e4989"
            ],
            [
             0.3333333333333333,
             "#31688e"
            ],
            [
             0.4444444444444444,
             "#26828e"
            ],
            [
             0.5555555555555556,
             "#1f9e89"
            ],
            [
             0.6666666666666666,
             "#35b779"
            ],
            [
             0.7777777777777778,
             "#6ece58"
            ],
            [
             0.8888888888888888,
             "#b5de2b"
            ],
            [
             1,
             "#fde725"
            ]
           ],
           "sequentialminus": [
            [
             0,
             "#440154"
            ],
            [
             0.1111111111111111,
             "#482878"
            ],
            [
             0.2222222222222222,
             "#3e4989"
            ],
            [
             0.3333333333333333,
             "#31688e"
            ],
            [
             0.4444444444444444,
             "#26828e"
            ],
            [
             0.5555555555555556,
             "#1f9e89"
            ],
            [
             0.6666666666666666,
             "#35b779"
            ],
            [
             0.7777777777777778,
             "#6ece58"
            ],
            [
             0.8888888888888888,
             "#b5de2b"
            ],
            [
             1,
             "#fde725"
            ]
           ]
          },
          "colorway": [
           "#1F77B4",
           "#FF7F0E",
           "#2CA02C",
           "#D62728",
           "#9467BD",
           "#8C564B",
           "#E377C2",
           "#7F7F7F",
           "#BCBD22",
           "#17BECF"
          ],
          "font": {
           "color": "rgb(36,36,36)"
          },
          "geo": {
           "bgcolor": "white",
           "lakecolor": "white",
           "landcolor": "white",
           "showlakes": true,
           "showland": true,
           "subunitcolor": "white"
          },
          "hoverlabel": {
           "align": "left"
          },
          "hovermode": "closest",
          "mapbox": {
           "style": "light"
          },
          "paper_bgcolor": "white",
          "plot_bgcolor": "white",
          "polar": {
           "angularaxis": {
            "gridcolor": "rgb(232,232,232)",
            "linecolor": "rgb(36,36,36)",
            "showgrid": false,
            "showline": true,
            "ticks": "outside"
           },
           "bgcolor": "white",
           "radialaxis": {
            "gridcolor": "rgb(232,232,232)",
            "linecolor": "rgb(36,36,36)",
            "showgrid": false,
            "showline": true,
            "ticks": "outside"
           }
          },
          "scene": {
           "xaxis": {
            "backgroundcolor": "white",
            "gridcolor": "rgb(232,232,232)",
            "gridwidth": 2,
            "linecolor": "rgb(36,36,36)",
            "showbackground": true,
            "showgrid": false,
            "showline": true,
            "ticks": "outside",
            "zeroline": false,
            "zerolinecolor": "rgb(36,36,36)"
           },
           "yaxis": {
            "backgroundcolor": "white",
            "gridcolor": "rgb(232,232,232)",
            "gridwidth": 2,
            "linecolor": "rgb(36,36,36)",
            "showbackground": true,
            "showgrid": false,
            "showline": true,
            "ticks": "outside",
            "zeroline": false,
            "zerolinecolor": "rgb(36,36,36)"
           },
           "zaxis": {
            "backgroundcolor": "white",
            "gridcolor": "rgb(232,232,232)",
            "gridwidth": 2,
            "linecolor": "rgb(36,36,36)",
            "showbackground": true,
            "showgrid": false,
            "showline": true,
            "ticks": "outside",
            "zeroline": false,
            "zerolinecolor": "rgb(36,36,36)"
           }
          },
          "shapedefaults": {
           "fillcolor": "black",
           "line": {
            "width": 0
           },
           "opacity": 0.3
          },
          "ternary": {
           "aaxis": {
            "gridcolor": "rgb(232,232,232)",
            "linecolor": "rgb(36,36,36)",
            "showgrid": false,
            "showline": true,
            "ticks": "outside"
           },
           "baxis": {
            "gridcolor": "rgb(232,232,232)",
            "linecolor": "rgb(36,36,36)",
            "showgrid": false,
            "showline": true,
            "ticks": "outside"
           },
           "bgcolor": "white",
           "caxis": {
            "gridcolor": "rgb(232,232,232)",
            "linecolor": "rgb(36,36,36)",
            "showgrid": false,
            "showline": true,
            "ticks": "outside"
           }
          },
          "title": {
           "x": 0.05
          },
          "xaxis": {
           "automargin": true,
           "gridcolor": "rgb(232,232,232)",
           "linecolor": "rgb(36,36,36)",
           "showgrid": false,
           "showline": true,
           "ticks": "outside",
           "title": {
            "standoff": 15
           },
           "zeroline": false,
           "zerolinecolor": "rgb(36,36,36)"
          },
          "yaxis": {
           "automargin": true,
           "gridcolor": "rgb(232,232,232)",
           "linecolor": "rgb(36,36,36)",
           "showgrid": false,
           "showline": true,
           "ticks": "outside",
           "title": {
            "standoff": 15
           },
           "zeroline": false,
           "zerolinecolor": "rgb(36,36,36)"
          }
         }
        },
        "title": {
         "text": "Distribuição de faixa salarial por gênero",
         "x": 0.5
        },
        "xaxis": {
         "anchor": "y",
         "domain": [
          0,
          1
         ],
         "title": {
          "text": "Faixa Salarial"
         }
        },
        "yaxis": {
         "anchor": "x",
         "domain": [
          0,
          1
         ],
         "title": {
          "text": "Proporção (%)"
         }
        }
       }
      }
     },
     "metadata": {},
     "output_type": "display_data"
    }
   ],
   "source": [
    "generos_declarado = (df['genero'].isin(['Masculino','Feminino']))\n",
    "salario_declarado = (df['fx_salarial2'] != 'z) Não informado')\n",
    "df_aux = df.loc[generos_declarado & salario_declarado]\n",
    "salario_genero = round(pd.crosstab(df_aux['genero'], df_aux['fx_salarial2'], normalize='index')*100, 1)\n",
    "salario_genero = salario_genero.reset_index()\n",
    "salario_genero = pd.melt(salario_genero, id_vars='genero', var_name='fx_salarial2', value_name='Prop')\n",
    "salario_genero.columns = ['Genero', 'Faixa Salarial', 'Proporcao']\n",
    "\n",
    "fig = px.line(salario_genero,\n",
    "              template = 'simple_white',\n",
    "              x = 'Faixa Salarial',\n",
    "              y = 'Proporcao',\n",
    "              color = 'Genero',\n",
    "              markers = True,\n",
    "              color_discrete_sequence = ['#d9b3ff', '#7300e6'],\n",
    "              labels={'Genero':'Gênero'})\n",
    "fig.update_layout(autosize = True,plot_bgcolor='rgba(0,0,0,0)', title_text = 'Distribuição de faixa salarial por gênero' , title_x = 0.5)\n",
    "\n",
    "fig['layout']['yaxis']['title']='Proporção (%)'\n",
    "\n",
    "# df_aux.groupby('genero').size()\n",
    "# Feminino      436\n",
    "# Masculino    1924\n",
    "# dtype: int64\n",
    "\n",
    "fig.show()"
   ]
  },
  {
   "attachments": {},
   "cell_type": "markdown",
   "metadata": {},
   "source": [
    "Com o gráfico que compara a faixa salárial podemos ver que conforme é de se esperar o maior volume percentual se encontra nas faixas intermediarias, com baixas concentrações para ambos os gêneros nas faixas extremas.\n",
    "\n",
    "Um comportamento que também é possível observar é a inversão da diferença entre gêneros a partir da faixa salarial de R$12mil, onde os respondentes de gênero Masculino passam a ser em maior nível de proporção do que os de gênero Feminino. \n",
    "Sendo a maior diferença **(6.3%)** entre os gêneros acontecendo na faixa **f) 12.000 a 20.000**"
   ]
  }
 ],
 "metadata": {
  "kernelspec": {
   "display_name": "Python 3",
   "language": "python",
   "name": "python3"
  },
  "language_info": {
   "codemirror_mode": {
    "name": "ipython",
    "version": 3
   },
   "file_extension": ".py",
   "mimetype": "text/x-python",
   "name": "python",
   "nbconvert_exporter": "python",
   "pygments_lexer": "ipython3",
   "version": "3.11.2"
  }
 },
 "nbformat": 4,
 "nbformat_minor": 2
}
